{
  "nbformat": 4,
  "nbformat_minor": 0,
  "metadata": {
    "colab": {
      "provenance": [],
      "authorship_tag": "ABX9TyOKHyUs05OVGnf5IRTtYp4o",
      "include_colab_link": true
    },
    "kernelspec": {
      "name": "python3",
      "display_name": "Python 3"
    },
    "language_info": {
      "name": "python"
    }
  },
  "cells": [
    {
      "cell_type": "markdown",
      "metadata": {
        "id": "view-in-github",
        "colab_type": "text"
      },
      "source": [
        "<a href=\"https://colab.research.google.com/github/bdfd/Portfolio_Project04_Drug_Prediction/blob/main/Drug_Prediction.ipynb\" target=\"_parent\"><img src=\"https://colab.research.google.com/assets/colab-badge.svg\" alt=\"Open In Colab\"/></a>"
      ]
    },
    {
      "cell_type": "markdown",
      "source": [
        "#Drug Prediction"
      ],
      "metadata": {
        "id": "K9yDQE1sJdVe"
      }
    },
    {
      "cell_type": "markdown",
      "source": [
        "##Basic Approach"
      ],
      "metadata": {
        "id": "YVQi6I8qJ_y2"
      }
    },
    {
      "cell_type": "markdown",
      "source": [
        "The Approach\n",
        "1. Perform some quick EDA(Exploratory Data Analysis)\n",
        "2. Use sk-learn Algorithm to create our segments \n",
        "3. Use Summary Statistics on the clusters\n",
        "\n",
        "Target Cluster\n",
        "Datasets is about a set of patients, all of whom suffered from the same illness. During their course of treatment, each patient responded to one of 5 medications include drug A, B, C, X, Y.\n",
        "*   Target Variable - Drug options:\n",
        "  *   Drug A\n",
        "  *   Drug B\n",
        "  *   Drug C\n",
        "  *   Drug X\n",
        "  *   Drug Y"
      ],
      "metadata": {
        "id": "2i87U7F_KLw-"
      }
    },
    {
      "cell_type": "code",
      "source": [
        "import numpy as np\n",
        "import pandas as pd\n",
        "import sklearn\n",
        "from sklearn.tree import DecisionTreeClassifier"
      ],
      "metadata": {
        "id": "qL3C_sJmLdXc"
      },
      "execution_count": 3,
      "outputs": []
    },
    {
      "cell_type": "code",
      "source": [
        "# read the dataset\n",
        "data_path = 'https://raw.githubusercontent.com/bdfd/Portfolio_Project04_Drug_Prediction/main/dataset/drug200.csv'\n",
        "# upload dataset into data frame\n",
        "df = pd.read_csv(data_path)\n",
        "print(df.head(3))"
      ],
      "metadata": {
        "colab": {
          "base_uri": "https://localhost:8080/"
        },
        "id": "Y1hX2tHyKDR4",
        "outputId": "70f9025a-bc05-4543-9062-692bf83e7026"
      },
      "execution_count": 5,
      "outputs": [
        {
          "output_type": "stream",
          "name": "stdout",
          "text": [
            "   Age Sex    BP Cholesterol  Na_to_K   Drug\n",
            "0   23   F  HIGH        HIGH   25.355  drugY\n",
            "1   47   M   LOW        HIGH   13.093  drugC\n",
            "2   47   M   LOW        HIGH   10.114  drugC\n"
          ]
        }
      ]
    }
  ]
}