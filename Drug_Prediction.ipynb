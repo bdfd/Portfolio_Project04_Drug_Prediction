{
  "nbformat": 4,
  "nbformat_minor": 0,
  "metadata": {
    "colab": {
      "provenance": [],
      "authorship_tag": "ABX9TyMDeXpXVmFPmTGakqUcQo2e",
      "include_colab_link": true
    },
    "kernelspec": {
      "name": "python3",
      "display_name": "Python 3"
    },
    "language_info": {
      "name": "python"
    }
  },
  "cells": [
    {
      "cell_type": "markdown",
      "metadata": {
        "id": "view-in-github",
        "colab_type": "text"
      },
      "source": [
        "<a href=\"https://colab.research.google.com/github/bdfd/Portfolio_Project04_Drug_Prediction/blob/main/Drug_Prediction.ipynb\" target=\"_parent\"><img src=\"https://colab.research.google.com/assets/colab-badge.svg\" alt=\"Open In Colab\"/></a>"
      ]
    },
    {
      "cell_type": "markdown",
      "source": [
        "#Drug Prediction"
      ],
      "metadata": {
        "id": "K9yDQE1sJdVe"
      }
    },
    {
      "cell_type": "markdown",
      "source": [
        "##Basic Approach"
      ],
      "metadata": {
        "id": "YVQi6I8qJ_y2"
      }
    },
    {
      "cell_type": "markdown",
      "source": [
        "The Approach\n",
        "1. Perform some quick EDA(Exploratory Data Analysis)\n",
        "2. Use sk-learn Decision Tree Algorithm\n",
        "3. Covert data into an array\n",
        "4. Changing categorical variables to integer values\n",
        "5. Converting the target variable to an array\n",
        "\n",
        "Target Cluster\n",
        "Datasets is about a set of patients, all of whom suffered from the same illness. During their course of treatment, each patient responded to one of 5 medications include drug A, B, C, X, Y.\n",
        "*   Target Variable - Drug options:\n",
        "  *   Drug A\n",
        "  *   Drug B\n",
        "  *   Drug C\n",
        "  *   Drug X\n",
        "  *   Drug Y"
      ],
      "metadata": {
        "id": "2i87U7F_KLw-"
      }
    },
    {
      "cell_type": "code",
      "source": [
        "import numpy as np\n",
        "import pandas as pd\n",
        "import sklearn\n",
        "from sklearn import preprocessing\n",
        "from sklearn.model_selection import train_test_split\n",
        "from sklearn.tree import DecisionTreeClassifier\n",
        "from sklearn import metrics\n",
        "import matplotlib.pyplot as plt"
      ],
      "metadata": {
        "id": "qL3C_sJmLdXc"
      },
      "execution_count": 1,
      "outputs": []
    },
    {
      "cell_type": "code",
      "source": [
        "# read the dataset\n",
        "data_path = 'https://raw.githubusercontent.com/bdfd/Portfolio_Project04_Drug_Prediction/main/dataset/drug200.csv'\n",
        "# upload dataset into data frame\n",
        "df = pd.read_csv(data_path)\n",
        "# print(df.head(3))"
      ],
      "metadata": {
        "id": "Y1hX2tHyKDR4"
      },
      "execution_count": 2,
      "outputs": []
    },
    {
      "cell_type": "code",
      "source": [
        "x = df[['Age','Sex','BP','Cholesterol','Na_to_K']].values\n",
        "x[0:5]"
      ],
      "metadata": {
        "colab": {
          "base_uri": "https://localhost:8080/"
        },
        "id": "myaJNMIYMtqz",
        "outputId": "59e33eb0-22d6-4d41-964d-8ba99e7b510c"
      },
      "execution_count": 3,
      "outputs": [
        {
          "output_type": "execute_result",
          "data": {
            "text/plain": [
              "array([[23, 'F', 'HIGH', 'HIGH', 25.355],\n",
              "       [47, 'M', 'LOW', 'HIGH', 13.093],\n",
              "       [47, 'M', 'LOW', 'HIGH', 10.114],\n",
              "       [28, 'F', 'NORMAL', 'HIGH', 7.798],\n",
              "       [61, 'F', 'LOW', 'HIGH', 18.043]], dtype=object)"
            ]
          },
          "metadata": {},
          "execution_count": 3
        }
      ]
    },
    {
      "cell_type": "code",
      "source": [
        "# from sklearn import preprocessing\n",
        "le_sex = preprocessing.LabelEncoder()\n",
        "le_sex.fit(['F','M'])\n",
        "x[:,1] = le_sex.transform(x[:,1])\n",
        "\n",
        "le_BP = preprocessing.LabelEncoder()\n",
        "le_BP.fit(['LOW','NORMAL','HIGH'])\n",
        "x[:,2] = le_BP.transform(x[:,2])\n",
        "\n",
        "le_Chol = preprocessing.LabelEncoder()\n",
        "le_Chol.fit(['NORMAL','HIGH'])\n",
        "x[:,3] = le_Chol.transform(x[:,3])\n",
        "\n",
        "x[0:5]"
      ],
      "metadata": {
        "colab": {
          "base_uri": "https://localhost:8080/"
        },
        "id": "1DPNe9NvND2C",
        "outputId": "c06e172a-c132-4ace-efed-188762198e9a"
      },
      "execution_count": 4,
      "outputs": [
        {
          "output_type": "execute_result",
          "data": {
            "text/plain": [
              "array([[23, 0, 0, 0, 25.355],\n",
              "       [47, 1, 1, 0, 13.093],\n",
              "       [47, 1, 1, 0, 10.114],\n",
              "       [28, 0, 2, 0, 7.798],\n",
              "       [61, 0, 1, 0, 18.043]], dtype=object)"
            ]
          },
          "metadata": {},
          "execution_count": 4
        }
      ]
    },
    {
      "cell_type": "code",
      "source": [
        "y = df['Drug']\n",
        "y.head(3)"
      ],
      "metadata": {
        "colab": {
          "base_uri": "https://localhost:8080/"
        },
        "id": "CjL-mwKFNB5t",
        "outputId": "9e629c93-ab35-435b-ceaf-5332d3f98f3f"
      },
      "execution_count": 5,
      "outputs": [
        {
          "output_type": "execute_result",
          "data": {
            "text/plain": [
              "0    drugY\n",
              "1    drugC\n",
              "2    drugC\n",
              "Name: Drug, dtype: object"
            ]
          },
          "metadata": {},
          "execution_count": 5
        }
      ]
    },
    {
      "cell_type": "markdown",
      "source": [
        "## Setting Up Decision Tree"
      ],
      "metadata": {
        "id": "y8YerED8PCLD"
      }
    },
    {
      "cell_type": "code",
      "source": [
        "# train-test-split\n",
        "x_train, x_test, y_train, y_test = train_test_split(x, y, test_size=0.3, random_state=3)\n"
      ],
      "metadata": {
        "id": "LcPmtTGCPL9S"
      },
      "execution_count": 6,
      "outputs": []
    },
    {
      "cell_type": "markdown",
      "source": [
        "## Training the Machine Learning Model"
      ],
      "metadata": {
        "id": "JR8WL961QTAB"
      }
    },
    {
      "cell_type": "code",
      "source": [
        "DrugTree = DecisionTreeClassifier(criterion=\"entropy\", max_depth = 4)\n",
        "DrugTree # it shows the default parameters"
      ],
      "metadata": {
        "colab": {
          "base_uri": "https://localhost:8080/"
        },
        "id": "ZuaR8IfiyPyZ",
        "outputId": "84cee36f-2d61-4458-e003-b7fedee1af5c"
      },
      "execution_count": 7,
      "outputs": [
        {
          "output_type": "execute_result",
          "data": {
            "text/plain": [
              "DecisionTreeClassifier(criterion='entropy', max_depth=4)"
            ]
          },
          "metadata": {},
          "execution_count": 7
        }
      ]
    },
    {
      "cell_type": "code",
      "source": [
        "DrugTree.fit(x_train,y_train)"
      ],
      "metadata": {
        "colab": {
          "base_uri": "https://localhost:8080/"
        },
        "id": "uamCTpGfyzXo",
        "outputId": "8cb171e2-a3a9-4491-ede4-1eb4865b4b9a"
      },
      "execution_count": 8,
      "outputs": [
        {
          "output_type": "execute_result",
          "data": {
            "text/plain": [
              "DecisionTreeClassifier(criterion='entropy', max_depth=4)"
            ]
          },
          "metadata": {},
          "execution_count": 8
        }
      ]
    },
    {
      "cell_type": "markdown",
      "source": [
        "## Prediction with DecisionTree"
      ],
      "metadata": {
        "id": "B7DRXY4vypBo"
      }
    },
    {
      "cell_type": "code",
      "source": [
        "PredTree = DrugTree.predict(x_test)"
      ],
      "metadata": {
        "id": "Cl4wYXKEzGfv"
      },
      "execution_count": 9,
      "outputs": []
    },
    {
      "cell_type": "code",
      "source": [
        "PredTree[0:5]"
      ],
      "metadata": {
        "colab": {
          "base_uri": "https://localhost:8080/"
        },
        "id": "8LSpcGAzzUXy",
        "outputId": "ce238b85-d23e-46ab-ece2-77d116eeb70c"
      },
      "execution_count": 10,
      "outputs": [
        {
          "output_type": "execute_result",
          "data": {
            "text/plain": [
              "array(['drugY', 'drugX', 'drugX', 'drugX', 'drugX'], dtype=object)"
            ]
          },
          "metadata": {},
          "execution_count": 10
        }
      ]
    },
    {
      "cell_type": "code",
      "source": [
        "y_test[0:5]"
      ],
      "metadata": {
        "colab": {
          "base_uri": "https://localhost:8080/"
        },
        "id": "5vnh9gqmzWz_",
        "outputId": "6dd66af6-6d94-4990-b9d4-d08ce925bf84"
      },
      "execution_count": 11,
      "outputs": [
        {
          "output_type": "execute_result",
          "data": {
            "text/plain": [
              "40     drugY\n",
              "51     drugX\n",
              "139    drugX\n",
              "197    drugX\n",
              "170    drugX\n",
              "Name: Drug, dtype: object"
            ]
          },
          "metadata": {},
          "execution_count": 11
        }
      ]
    },
    {
      "cell_type": "markdown",
      "source": [
        "## Evaluation of the Decision Tree"
      ],
      "metadata": {
        "id": "ganrY9C6z0WN"
      }
    },
    {
      "cell_type": "code",
      "source": [
        "# get the accuracy of prediction\n",
        "# from sklearn import metrics\n",
        "# import matplotlib.pyplot as plt"
      ],
      "metadata": {
        "id": "51Phe09iymxX"
      },
      "execution_count": 12,
      "outputs": []
    },
    {
      "cell_type": "code",
      "source": [
        "metrics.accuracy_score(y_test, PredTree)"
      ],
      "metadata": {
        "colab": {
          "base_uri": "https://localhost:8080/"
        },
        "id": "hBYrMF5Qz7u3",
        "outputId": "a3b81b28-fa57-45d8-f1be-12923fb3045a"
      },
      "execution_count": 13,
      "outputs": [
        {
          "output_type": "execute_result",
          "data": {
            "text/plain": [
              "0.9833333333333333"
            ]
          },
          "metadata": {},
          "execution_count": 13
        }
      ]
    }
  ]
}